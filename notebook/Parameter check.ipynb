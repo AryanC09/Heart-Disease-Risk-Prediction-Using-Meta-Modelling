{
 "cells": [
  {
   "cell_type": "code",
   "execution_count": 3,
   "id": "0bcd7b91-a17f-456a-ac99-f34618fc650b",
   "metadata": {},
   "outputs": [],
   "source": [
    "import joblib\n",
    "\n",
    "rf_uci = joblib.load(\"../model/model_uci.pkl\")\n",
    "rf_framingham = joblib.load(\"../model/model_fram.pkl\")"
   ]
  },
  {
   "cell_type": "code",
   "execution_count": 4,
   "id": "ffa2be2c-690f-492b-ba4b-3b2682142d74",
   "metadata": {},
   "outputs": [
    {
     "name": "stdout",
     "output_type": "stream",
     "text": [
      "UCI RF Features:\n",
      "['age' 'sex' 'chest pain type' 'resting bp s' 'cholesterol'\n",
      " 'fasting blood sugar' 'resting ecg' 'max heart rate' 'exercise angina'\n",
      " 'oldpeak' 'ST slope']\n",
      "\n",
      "Framingham RF Features:\n",
      "['male' 'age' 'education' 'currentSmoker' 'cigsPerDay' 'BPMeds'\n",
      " 'prevalentStroke' 'prevalentHyp' 'diabetes' 'totChol' 'sysBP' 'diaBP'\n",
      " 'BMI' 'heartRate' 'glucose']\n"
     ]
    }
   ],
   "source": [
    "# For Random Forest (UCI dataset)\n",
    "print(\"UCI RF Features:\")\n",
    "print(rf_uci.feature_names_in_)\n",
    "\n",
    "# For Random Forest (Framingham dataset)\n",
    "print(\"\\nFramingham RF Features:\")\n",
    "print(rf_framingham.feature_names_in_)"
   ]
  },
  {
   "cell_type": "code",
   "execution_count": 5,
   "id": "58173322-08ca-4b86-afbc-94473ad5041b",
   "metadata": {},
   "outputs": [
    {
     "name": "stdout",
     "output_type": "stream",
     "text": [
      "11\n",
      "15\n"
     ]
    }
   ],
   "source": [
    "# For sklearn RandomForest\n",
    "print(rf_uci.n_features_in_)        # number of features\n",
    "print(rf_framingham.n_features_in_) # number of features"
   ]
  },
  {
   "cell_type": "code",
   "execution_count": 8,
   "id": "dd9b844a-fb68-4612-a384-272361d02563",
   "metadata": {},
   "outputs": [
    {
     "name": "stdout",
     "output_type": "stream",
     "text": [
      "UCI dataset columns: ['age', 'sex', 'chest pain type', 'resting bp s', 'cholesterol', 'fasting blood sugar', 'resting ecg', 'max heart rate', 'exercise angina', 'oldpeak', 'ST slope', 'target']\n",
      "Framingham dataset columns: ['male', 'age', 'education', 'currentSmoker', 'cigsPerDay', 'BPMeds', 'prevalentStroke', 'prevalentHyp', 'diabetes', 'totChol', 'sysBP', 'diaBP', 'BMI', 'heartRate', 'glucose', 'TenYearCHD']\n"
     ]
    }
   ],
   "source": [
    "import pandas as pd\n",
    "\n",
    "uci_data = pd.read_csv(\"UCI_combined.csv\")\n",
    "framingham_data = pd.read_csv(\"framingham.csv\")\n",
    "\n",
    "print(\"UCI dataset columns:\", list(uci_data.columns))\n",
    "print(\"Framingham dataset columns:\", list(framingham_data.columns))"
   ]
  }
 ],
 "metadata": {
  "kernelspec": {
   "display_name": "Python 3 (ipykernel)",
   "language": "python",
   "name": "python3"
  },
  "language_info": {
   "codemirror_mode": {
    "name": "ipython",
    "version": 3
   },
   "file_extension": ".py",
   "mimetype": "text/x-python",
   "name": "python",
   "nbconvert_exporter": "python",
   "pygments_lexer": "ipython3",
   "version": "3.12.10"
  }
 },
 "nbformat": 4,
 "nbformat_minor": 5
}

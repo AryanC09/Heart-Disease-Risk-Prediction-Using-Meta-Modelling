{
 "cells": [
  {
   "cell_type": "code",
   "execution_count": 1,
   "id": "c8e5b192-d19e-4477-a31f-c022f1292e98",
   "metadata": {},
   "outputs": [],
   "source": [
    "import pandas as pd\n",
    "import numpy as np\n",
    "import joblib\n",
    "from sklearn.model_selection import train_test_split"
   ]
  },
  {
   "cell_type": "code",
   "execution_count": 2,
   "id": "9de81a3c-370d-4819-9a38-91098caec341",
   "metadata": {},
   "outputs": [],
   "source": [
    "uci_clean = pd.read_csv(\"UCI_combined.csv\")\n",
    "fram_clean = pd.read_csv(\"framingham.csv\")"
   ]
  },
  {
   "cell_type": "code",
   "execution_count": 3,
   "id": "3d726fda-0d4c-4340-8d54-61867ee6381a",
   "metadata": {},
   "outputs": [],
   "source": [
    "numeric_cols_uci = uci_clean.select_dtypes(include=[np.number]).columns.tolist()\n",
    "for col in numeric_cols_uci:\n",
    "    uci_clean[col] = uci_clean[col].fillna(uci_clean[col].mean())"
   ]
  },
  {
   "cell_type": "code",
   "execution_count": 4,
   "id": "84ab95f4-9b89-41f3-8cb1-b3e9707c0ce0",
   "metadata": {},
   "outputs": [],
   "source": [
    "numeric_cols_fram = fram_clean.select_dtypes(include=[np.number]).columns.tolist()\n",
    "for col in numeric_cols_fram:\n",
    "    fram_clean[col] = fram_clean[col].fillna(fram_clean[col].mean())"
   ]
  },
  {
   "cell_type": "code",
   "execution_count": 5,
   "id": "2d63412f-fdb9-48a1-b9b8-1a8368599047",
   "metadata": {},
   "outputs": [],
   "source": [
    "X_uci = uci_clean.drop(columns=['target'])\n",
    "y_uci = uci_clean['target']"
   ]
  },
  {
   "cell_type": "code",
   "execution_count": 6,
   "id": "f62cfb37-79c0-4d07-b863-c145eaca7640",
   "metadata": {},
   "outputs": [],
   "source": [
    "X_fram = fram_clean.drop(columns=['TenYearCHD'])\n",
    "y_fram = fram_clean['TenYearCHD']"
   ]
  },
  {
   "cell_type": "code",
   "execution_count": 7,
   "id": "b8ee034a-5c6f-4da4-9055-fcb85b753ba3",
   "metadata": {},
   "outputs": [],
   "source": [
    "rf_uci = joblib.load(\"../model/model_uci.pkl\")\n",
    "rf_fram = joblib.load(\"../model/model_fram.pkl\")"
   ]
  },
  {
   "cell_type": "code",
   "execution_count": 16,
   "id": "df40c167-aedd-499a-b141-b392cdffff32",
   "metadata": {},
   "outputs": [],
   "source": [
    "X_train_uci, X_val_uci, y_train_uci, y_val_uci = train_test_split(X_uci, y_uci, test_size=0.2, random_state=42)\n",
    "X_train_fram, X_val_fram, y_train_fram, y_val_fram = train_test_split(X_fram, y_fram, test_size=0.2, random_state=42)"
   ]
  },
  {
   "cell_type": "code",
   "execution_count": 17,
   "id": "4014d05e-a012-423b-a194-1a9785f40b7d",
   "metadata": {},
   "outputs": [],
   "source": [
    "p_uci_val = rf_uci.predict_proba(X_val_uci)[:, 1]\n",
    "p_fram_val = rf_fram.predict_proba(X_val_fram)[:, 1]"
   ]
  },
  {
   "cell_type": "code",
   "execution_count": 18,
   "id": "7683b95e-326a-4612-a82d-c00f801de278",
   "metadata": {},
   "outputs": [],
   "source": [
    "meta_uci = pd.DataFrame({\n",
    "    'p_uci': p_uci_val,\n",
    "    'p_fram': np.zeros_like(p_uci_val),\n",
    "    'y': y_val_uci\n",
    "})"
   ]
  },
  {
   "cell_type": "code",
   "execution_count": 19,
   "id": "fd574060-ff94-487c-8224-0f02ad933c39",
   "metadata": {},
   "outputs": [],
   "source": [
    "meta_fram = pd.DataFrame({\n",
    "    'p_uci': np.zeros_like(p_fram_val),\n",
    "    'p_fram': p_fram_val,\n",
    "    'y': y_val_fram\n",
    "})"
   ]
  },
  {
   "cell_type": "code",
   "execution_count": 20,
   "id": "b9909e19-99a2-4e91-9970-5a46cc0abacf",
   "metadata": {},
   "outputs": [],
   "source": [
    "meta_dataset = pd.concat([meta_uci, meta_fram], axis=0).reset_index(drop=True)"
   ]
  },
  {
   "cell_type": "code",
   "execution_count": 21,
   "id": "17bbc30d-c093-4e18-af54-ac222c8e4fb4",
   "metadata": {},
   "outputs": [],
   "source": [
    "meta_dataset = meta_dataset.sample(frac=1, random_state=42).reset_index(drop=True)"
   ]
  },
  {
   "cell_type": "code",
   "execution_count": 23,
   "id": "291c1035-89be-4a50-9584-d3699a5bf70b",
   "metadata": {},
   "outputs": [],
   "source": [
    "meta_dataset.to_csv(\"meta_dataset.csv\", index=False)"
   ]
  }
 ],
 "metadata": {
  "kernelspec": {
   "display_name": "Python 3 (ipykernel)",
   "language": "python",
   "name": "python3"
  },
  "language_info": {
   "codemirror_mode": {
    "name": "ipython",
    "version": 3
   },
   "file_extension": ".py",
   "mimetype": "text/x-python",
   "name": "python",
   "nbconvert_exporter": "python",
   "pygments_lexer": "ipython3",
   "version": "3.12.10"
  }
 },
 "nbformat": 4,
 "nbformat_minor": 5
}
